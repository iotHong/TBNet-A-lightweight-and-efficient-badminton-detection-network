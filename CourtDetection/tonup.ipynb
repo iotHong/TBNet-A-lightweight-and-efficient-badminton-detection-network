{
 "cells": [
  {
   "cell_type": "code",
   "execution_count": 5,
   "metadata": {
    "collapsed": true
   },
   "outputs": [],
   "source": [
    "import cv2\n",
    "import numpy as np\n",
    "\n",
    "## 拼接两段或者多段时长一样的视频，左右同时播放，shape不一样的话读取的时候resize\n",
    "\n",
    "INPUT_FILE1 = '/1_05_02.mp4'\n",
    "INPUT_FILE2 = '/1_05_03.mp4'\n",
    "INPUT_FILE3 = '/1_06_03.mp4'\n",
    "INPUT_FILE4 = '/1_07_03.mp4'\n",
    "INPUT_FILE5 = '/1_07_04.mp4'\n",
    "INPUT_FILE6 = '/1_07_06.mp4'\n",
    "INPUT_FILE7 = '/1_09_06.mp4'\n",
    "INPUT_FILE8 = '/2_02_07.mp4'\n",
    "INPUT_FILE9 = '2_03_08.mp4'\n",
    "INPUT_FILE10 = '2_03_10.mp4'\n",
    "OUTPUT_FILE = 'TestDemo.mp4'\n",
    "\n",
    "reader1 = cv2.VideoCapture(INPUT_FILE1)\n",
    "reader2 = cv2.VideoCapture(INPUT_FILE2)\n",
    "reader3 = cv2.VideoCapture(INPUT_FILE3)\n",
    "reader4 = cv2.VideoCapture(INPUT_FILE4)\n",
    "reader5 = cv2.VideoCapture(INPUT_FILE5)\n",
    "reader6 = cv2.VideoCapture(INPUT_FILE6)\n",
    "reader7 = cv2.VideoCapture(INPUT_FILE7)\n",
    "reader8 = cv2.VideoCapture(INPUT_FILE8)\n",
    "reader9 = cv2.VideoCapture(INPUT_FILE9)\n",
    "reader10 = cv2.VideoCapture(INPUT_FILE10)\n",
    "fps = reader1.get(cv2.CAP_PROP_FPS)\n",
    "width = int(reader1.get(cv2.CAP_PROP_FRAME_WIDTH))\n",
    "height = int(reader1.get(cv2.CAP_PROP_FRAME_HEIGHT))\n",
    "writer = cv2.VideoWriter(OUTPUT_FILE,\n",
    "                cv2.VideoWriter_fourcc('M', 'P', '4', 'V'), # type - mp4\n",
    "                fps, # fps\n",
    "                (width*2, height)) # resolution\n",
    "\n",
    "count = 0\n",
    "have_more_frame, frame1 = reader1.read()\n",
    "while  have_more_frame:\n",
    "    _, frame2 = reader2.read()\n",
    "    _, frame3 = reader3.read()\n",
    "    _, frame4 = reader4.read()\n",
    "    _, frame5 = reader5.read()\n",
    "    _, frame6 = reader6.read()\n",
    "    _, frame7 = reader7.read()\n",
    "    _, frame8 = reader8.read()\n",
    "    _, frame9 = reader9.read()\n",
    "    _, frame10 = reader10.read()\n",
    "\n",
    "    # frame1 = cv2.resize(frame1, (width//2, height//2))\n",
    "    # frame2 = cv2.resize(frame2, (width//2, height//2))\n",
    "    img = np.hstack((frame1, frame2,frame3,frame4,frame5,frame6,frame7,frame8,frame9,frame10))\n",
    "    writer.write(img)\n",
    "    count += 1\n",
    "    print(str(count) + ' is ok')\n",
    "    have_more_frame, frame1 = reader1.read()"
   ]
  },
  {
   "cell_type": "code",
   "execution_count": null,
   "outputs": [],
   "source": [],
   "metadata": {
    "collapsed": false
   }
  }
 ],
 "metadata": {
  "kernelspec": {
   "display_name": "Python 3",
   "language": "python",
   "name": "python3"
  },
  "language_info": {
   "codemirror_mode": {
    "name": "ipython",
    "version": 2
   },
   "file_extension": ".py",
   "mimetype": "text/x-python",
   "name": "python",
   "nbconvert_exporter": "python",
   "pygments_lexer": "ipython2",
   "version": "2.7.6"
  }
 },
 "nbformat": 4,
 "nbformat_minor": 0
}
